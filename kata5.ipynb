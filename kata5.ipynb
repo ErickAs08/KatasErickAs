{
 "cells": [
  {
   "cell_type": "markdown",
   "metadata": {},
   "source": [
    "## Ejercicio1 - Utilizar operadores aritméticos"
   ]
  },
  {
   "cell_type": "code",
   "execution_count": 8,
   "metadata": {},
   "outputs": [
    {
     "name": "stdout",
     "output_type": "stream",
     "text": [
      "390577533.93\n"
     ]
    }
   ],
   "source": [
    "Tierra = 149597870 \n",
    "Júpiter = 778547200\n",
    "\n",
    "distancia = Júpiter - Tierra\n",
    "\n",
    "distancia_km = distancia*.621\n",
    "\n",
    "\n",
    "print (distancia_km)\n",
    "\n",
    "\n"
   ]
  },
  {
   "cell_type": "markdown",
   "metadata": {},
   "source": [
    "## Ejercicio 2: convierte cadenas en números y usa valores absolutos"
   ]
  },
  {
   "cell_type": "code",
   "execution_count": 11,
   "metadata": {},
   "outputs": [
    {
     "name": "stdout",
     "output_type": "stream",
     "text": [
      "Distancia_km\n",
      "131093212.401\n"
     ]
    }
   ],
   "source": [
    "Marte = input(\"¿Cual es la distancia\")\n",
    "Venus = input(\"¿Cual es la distancia\")\n",
    "\n",
    "Marte = int(Marte)\n",
    "Venus = int(Venus)\n",
    "\n",
    "\n",
    "Distancia_km = Marte - Venus\n",
    "    \n",
    "print('Distancia_km')\n",
    "\n",
    "Distancia_millas = Distancia_km*.621\n",
    "\n",
    "print(abs(Distancia_millas))"
   ]
  },
  {
   "cell_type": "code",
   "execution_count": null,
   "metadata": {},
   "outputs": [],
   "source": []
  }
 ],
 "metadata": {
  "interpreter": {
   "hash": "651a3f8d4e52e721c57f2bd9abf777a459ec2fa0ff7ebc80e4ee3461f051f5a9"
  },
  "kernelspec": {
   "display_name": "Python 3.10.2 64-bit",
   "language": "python",
   "name": "python3"
  },
  "language_info": {
   "codemirror_mode": {
    "name": "ipython",
    "version": 3
   },
   "file_extension": ".py",
   "mimetype": "text/x-python",
   "name": "python",
   "nbconvert_exporter": "python",
   "pygments_lexer": "ipython3",
   "version": "3.10.2"
  },
  "orig_nbformat": 4
 },
 "nbformat": 4,
 "nbformat_minor": 2
}
