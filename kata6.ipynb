{
 "cells": [
  {
   "cell_type": "markdown",
   "metadata": {},
   "source": [
    "## Ejercicio1: Crear y usar listas de Python"
   ]
  },
  {
   "cell_type": "code",
   "execution_count": 27,
   "metadata": {},
   "outputs": [
    {
     "name": "stdout",
     "output_type": "stream",
     "text": [
      "Número de planetas: 8\n",
      "Número de planetas: 8\n",
      "El último planeta de la lista es: Pluto\n"
     ]
    }
   ],
   "source": [
    "planets = ['Mercurio', 'Venus', 'Tierra', 'Marte', 'Jupiter', 'Saturno', 'Uranoi', 'Neptuno']\n",
    "\n",
    "planetas = len(planets)\n",
    "print('Número de planetas: ' + str(planetas))\n",
    "\n",
    "planets.append('Pluto')\n",
    "\n",
    "print('Número de planetas: ' + str(planetas))\n",
    "\n",
    "print('El último planeta de la lista es: ' + planets[8])"
   ]
  },
  {
   "cell_type": "markdown",
   "metadata": {},
   "source": [
    "## Ejercicio 2: Trabajando con datos de una lista"
   ]
  },
  {
   "cell_type": "code",
   "execution_count": 23,
   "metadata": {},
   "outputs": [
    {
     "name": "stdout",
     "output_type": "stream",
     "text": [
      "Aqui está el planeta más cercano al sol que Earth\n",
      "['Mercury', 'Venus']\n"
     ]
    }
   ],
   "source": [
    "planets = ['Mercury', 'Venus', 'Earth', 'Mars', 'Jupiter', 'Saturn', 'Neptune']\n",
    "\n",
    "\n",
    "\n",
    "Primer_planeta = input(\"Ingresa un planeta, utiliza la primera letra en mayuscula\")\n",
    "\n",
    "planeta_index = planets.index(Primer_planeta)\n",
    "\n",
    "print('Planetas más cercanos que:  ' + Primer_planeta)\n",
    "print(planets[0:planeta_index])\n",
    "\n",
    "print('Planetas más lejanos que')\n",
    "print(planets[planeta_index + 1:])\n",
    "\n",
    "\n"
   ]
  },
  {
   "cell_type": "code",
   "execution_count": null,
   "metadata": {},
   "outputs": [],
   "source": []
  }
 ],
 "metadata": {
  "interpreter": {
   "hash": "651a3f8d4e52e721c57f2bd9abf777a459ec2fa0ff7ebc80e4ee3461f051f5a9"
  },
  "kernelspec": {
   "display_name": "Python 3.10.2 64-bit",
   "language": "python",
   "name": "python3"
  },
  "language_info": {
   "codemirror_mode": {
    "name": "ipython",
    "version": 3
   },
   "file_extension": ".py",
   "mimetype": "text/x-python",
   "name": "python",
   "nbconvert_exporter": "python",
   "pygments_lexer": "ipython3",
   "version": "3.10.2"
  },
  "orig_nbformat": 4
 },
 "nbformat": 4,
 "nbformat_minor": 2
}
