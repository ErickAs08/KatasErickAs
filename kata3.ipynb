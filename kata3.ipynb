{
 "cells": [
  {
   "cell_type": "markdown",
   "metadata": {},
   "source": [
    "## Ejercicio - Escribir declaraciones if, else, y elif"
   ]
  },
  {
   "cell_type": "code",
   "execution_count": 6,
   "metadata": {},
   "outputs": [
    {
     "name": "stdout",
     "output_type": "stream",
     "text": [
      "¡Vamos a morir!\n"
     ]
    }
   ],
   "source": [
    "velocidad_asteroide = 49\n",
    "\n",
    "if velocidad_asteroide > 25:\n",
    "\n",
    "    print ('¡Vamos a morir!')\n",
    "\n",
    "else: \n",
    "    print ('¡Vamos a vivir!')"
   ]
  },
  {
   "cell_type": "code",
   "execution_count": 12,
   "metadata": {},
   "outputs": [
    {
     "name": "stdout",
     "output_type": "stream",
     "text": [
      "Mira el rayo de luz el cielo\n"
     ]
    }
   ],
   "source": [
    "velocidad_asteroide = 19    \n",
    "\n",
    "if velocidad_asteroide < 20:\n",
    "    print('Mira el rayo de luz el cielo')\n",
    "\n",
    "elif velocidad_asteroide == 20:\n",
    "    print('Mira el rayo de luz el cielo')\n",
    "\n",
    "else:\n",
    "\n",
    "    print('No hay nada en el cielo')"
   ]
  },
  {
   "cell_type": "code",
   "execution_count": 14,
   "metadata": {},
   "outputs": [
    {
     "name": "stdout",
     "output_type": "stream",
     "text": [
      "¡Esto va a doler!\n"
     ]
    }
   ],
   "source": [
    "velocidad_asteroide =  37\n",
    "tamaño_asteroide = 26\n",
    "\n",
    "if velocidad_asteroide > 20 and tamaño_asteroide > 25:\n",
    "    print('¡Esto va a doler!')\n",
    "\n",
    "elif velocidad_asteroide >= 20:\n",
    "\n",
    "    print('Puede que se alcance a ver algo en el cielo')\n",
    "\n",
    "elif  tamaño_asteroide > 25 or velocidad_asteroide > 20:\n",
    "\n",
    "    print('Debemos tener cuidado')\n",
    "\n",
    "else:\n",
    "\n",
    "    print ('Todo relax')"
   ]
  },
  {
   "cell_type": "code",
   "execution_count": null,
   "metadata": {},
   "outputs": [],
   "source": []
  }
 ],
 "metadata": {
  "interpreter": {
   "hash": "651a3f8d4e52e721c57f2bd9abf777a459ec2fa0ff7ebc80e4ee3461f051f5a9"
  },
  "kernelspec": {
   "display_name": "Python 3.10.2 64-bit",
   "language": "python",
   "name": "python3"
  },
  "language_info": {
   "codemirror_mode": {
    "name": "ipython",
    "version": 3
   },
   "file_extension": ".py",
   "mimetype": "text/x-python",
   "name": "python",
   "nbconvert_exporter": "python",
   "pygments_lexer": "ipython3",
   "version": "3.10.2"
  },
  "orig_nbformat": 4
 },
 "nbformat": 4,
 "nbformat_minor": 2
}
